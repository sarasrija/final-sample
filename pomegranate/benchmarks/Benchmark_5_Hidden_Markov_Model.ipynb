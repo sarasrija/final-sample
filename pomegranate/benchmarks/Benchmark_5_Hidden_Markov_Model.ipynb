{
 "cells": [
  {
   "cell_type": "code",
   "execution_count": 1,
   "id": "72ea7293",
   "metadata": {},
   "outputs": [
    {
     "name": "stdout",
     "output_type": "stream",
     "text": [
      "Populating the interactive namespace from numpy and matplotlib\n",
      "numpy      : 1.23.4\n",
      "scipy      : 1.9.3\n",
      "torch      : 1.12.1\n",
      "pomegranate: 0.14.8\n",
      "\n",
      "Compiler    : GCC 11.2.0\n",
      "OS          : Linux\n",
      "Release     : 4.15.0-197-generic\n",
      "Machine     : x86_64\n",
      "Processor   : x86_64\n",
      "CPU cores   : 8\n",
      "Architecture: 64bit\n",
      "\n"
     ]
    }
   ],
   "source": [
    "%pylab inline\n",
    "import seaborn; seaborn.set_style('whitegrid')\n",
    "\n",
    "import time\n",
    "import torch\n",
    "\n",
    "from tqdm import tqdm\n",
    "\n",
    "from torchegranate.distributions import *\n",
    "from torchegranate.hmm import HiddenMarkovModel, Node\n",
    "\n",
    "from pomegranate import State, NormalDistribution, IndependentComponentsDistribution, DiscreteDistribution\n",
    "from pomegranate import HiddenMarkovModel as HMM\n",
    "\n",
    "numpy.random.seed(0)\n",
    "numpy.set_printoptions(suppress=True)\n",
    "\n",
    "%load_ext watermark\n",
    "%watermark -m -n -p numpy,scipy,torch,pomegranate"
   ]
  },
  {
   "cell_type": "markdown",
   "id": "9b312b25",
   "metadata": {},
   "source": [
    "### Normal Distribution w/ Diagonal Covariance"
   ]
  },
  {
   "cell_type": "code",
   "execution_count": 2,
   "id": "412487ff",
   "metadata": {},
   "outputs": [
    {
     "name": "stderr",
     "output_type": "stream",
     "text": [
      "/home/jmschr/anaconda3/lib/python3.9/site-packages/torchegranate-0.0.1-py3.9.egg/torchegranate/_dense_hmm.py:23: UserWarning: To copy construct from a tensor, it is recommended to use sourceTensor.clone().detach() or sourceTensor.clone().detach().requires_grad_(True), rather than torch.tensor(sourceTensor).\n",
      "/home/jmschr/anaconda3/lib/python3.9/site-packages/torchegranate-0.0.1-py3.9.egg/torchegranate/_dense_hmm.py:24: UserWarning: To copy construct from a tensor, it is recommended to use sourceTensor.clone().detach() or sourceTensor.clone().detach().requires_grad_(True), rather than torch.tensor(sourceTensor).\n",
      "/home/jmschr/anaconda3/lib/python3.9/site-packages/torchegranate-0.0.1-py3.9.egg/torchegranate/_dense_hmm.py:25: UserWarning: To copy construct from a tensor, it is recommended to use sourceTensor.clone().detach() or sourceTensor.clone().detach().requires_grad_(True), rather than torch.tensor(sourceTensor).\n"
     ]
    }
   ],
   "source": [
    "n, l, d = 200, 50, 10\n",
    "k = 50\n",
    "\n",
    "\n",
    "X = numpy.random.randn(n, l, d)\n",
    "Xt = torch.tensor(X)\n",
    "\n",
    "d1s, d2s, d3s = [], [], []\n",
    "for i in range(k):\n",
    "    mus = numpy.random.randn(d)\n",
    "\n",
    "    d1 = IndependentComponentsDistribution([NormalDistribution(mu, 1) for mu in mus])\n",
    "    d2 = Normal(torch.tensor(mus), torch.ones(d), covariance_type='diag')\n",
    "    d3 = Normal(torch.tensor(mus), torch.ones(d), covariance_type='diag')\n",
    "\n",
    "    d1s.append(d1)\n",
    "    d2s.append(d2)\n",
    "    d3s.append(d3)\n",
    "\n",
    "\n",
    "starts = torch.ones(k, dtype=torch.float64) / k\n",
    "ends = torch.ones(k, dtype=torch.float64) / (k+1)\n",
    "edges = torch.ones(k, k, dtype=torch.float64) / (k+1)\n",
    "\n",
    "\n",
    "model1 = HMM.from_matrix(edges, d1s, starts, ends)\n",
    "model2 = HiddenMarkovModel(nodes=d2s, edges=edges, starts=starts, ends=ends, kind='sparse', max_iter=10, verbose=True)\n",
    "model2.bake()\n",
    "model3 = HiddenMarkovModel(nodes=d3s, edges=torch.clone(edges), starts=torch.clone(starts), ends=torch.clone(ends), max_iter=10, kind='dense', verbose=True)\n",
    "model3.bake()"
   ]
  },
  {
   "cell_type": "markdown",
   "id": "6554dc39",
   "metadata": {},
   "source": [
    "### Forward"
   ]
  },
  {
   "cell_type": "code",
   "execution_count": 3,
   "id": "e8291aa3",
   "metadata": {},
   "outputs": [
    {
     "name": "stdout",
     "output_type": "stream",
     "text": [
      "959 ms ± 7.29 ms per loop (mean ± std. dev. of 7 runs, 1 loop each)\n",
      "184 ms ± 2.41 ms per loop (mean ± std. dev. of 7 runs, 10 loops each)\n",
      "130 ms ± 2.38 ms per loop (mean ± std. dev. of 7 runs, 10 loops each)\n"
     ]
    }
   ],
   "source": [
    "%timeit [model1.forward(x) for x in X]\n",
    "%timeit model2.forward(X)\n",
    "%timeit model3.forward(X)"
   ]
  },
  {
   "cell_type": "markdown",
   "id": "72667302",
   "metadata": {},
   "source": [
    "### Backward"
   ]
  },
  {
   "cell_type": "code",
   "execution_count": 4,
   "id": "f709ef72",
   "metadata": {},
   "outputs": [
    {
     "name": "stdout",
     "output_type": "stream",
     "text": [
      "995 ms ± 7.81 ms per loop (mean ± std. dev. of 7 runs, 1 loop each)\n",
      "319 ms ± 42.3 ms per loop (mean ± std. dev. of 7 runs, 1 loop each)\n",
      "133 ms ± 4.41 ms per loop (mean ± std. dev. of 7 runs, 10 loops each)\n"
     ]
    }
   ],
   "source": [
    "%timeit [model1.backward(x) for x in X]\n",
    "%timeit model2.backward(X)\n",
    "%timeit model3.backward(X)"
   ]
  },
  {
   "cell_type": "markdown",
   "id": "d88fc2b3",
   "metadata": {},
   "source": [
    "### Forward-Backward"
   ]
  },
  {
   "cell_type": "code",
   "execution_count": 5,
   "id": "fe16cb7e",
   "metadata": {},
   "outputs": [
    {
     "name": "stdout",
     "output_type": "stream",
     "text": [
      "2.58 s ± 10.6 ms per loop (mean ± std. dev. of 7 runs, 1 loop each)\n",
      "801 ms ± 38.6 ms per loop (mean ± std. dev. of 7 runs, 1 loop each)\n",
      "370 ms ± 39.9 ms per loop (mean ± std. dev. of 7 runs, 1 loop each)\n"
     ]
    }
   ],
   "source": [
    "%timeit [model1.forward_backward(x) for x in X]\n",
    "%timeit model2.forward_backward(X)\n",
    "%timeit model3.forward_backward(X)"
   ]
  },
  {
   "cell_type": "markdown",
   "id": "41a0b064",
   "metadata": {},
   "source": [
    "### Fitting"
   ]
  },
  {
   "cell_type": "code",
   "execution_count": 6,
   "id": "016e640c",
   "metadata": {},
   "outputs": [
    {
     "name": "stdout",
     "output_type": "stream",
     "text": [
      "[1] Improvement: 11916.92540384506\tTime (s): 2.761\n",
      "[2] Improvement: 356.23982110453653\tTime (s): 2.799\n",
      "[3] Improvement: 187.82563967100577\tTime (s): 2.811\n",
      "[4] Improvement: 132.1274677386391\tTime (s): 2.817\n",
      "[5] Improvement: 107.64460236663581\tTime (s): 2.816\n",
      "[6] Improvement: 95.06285029207356\tTime (s): 2.816\n",
      "[7] Improvement: 87.14057147293352\tTime (s): 2.81\n",
      "[8] Improvement: 81.8166760643071\tTime (s): 2.814\n",
      "[9] Improvement: 78.61675650975667\tTime (s): 2.804\n",
      "[10] Improvement: 76.616654075915\tTime (s): 2.813\n",
      "Total Training Improvement: 13120.016443140863\n",
      "Total Training Time (s): 30.7974\n"
     ]
    },
    {
     "name": "stderr",
     "output_type": "stream",
     "text": [
      "/tmp/ipykernel_49503/2413083255.py:2: DeprecationWarning: Calling np.sum(generator) is deprecated, and in the future will give a different result. Use np.sum(np.fromiter(generator)) or the python sum builtin instead.\n",
      "  sum(model1.log_probability(x) for x in X)\n"
     ]
    },
    {
     "data": {
      "text/plain": [
       "-141610.99530855467"
      ]
     },
     "execution_count": 6,
     "metadata": {},
     "output_type": "execute_result"
    }
   ],
   "source": [
    "_ = model1.fit(X, max_iterations=10, verbose=True)\n",
    "sum(model1.log_probability(x) for x in X)"
   ]
  },
  {
   "cell_type": "code",
   "execution_count": 7,
   "id": "c603db97",
   "metadata": {},
   "outputs": [
    {
     "name": "stdout",
     "output_type": "stream",
     "text": [
      "[1] Improvement: 11916.924049986032, Time: 0.9671s\n",
      "[2] Improvement: 356.2397617994575, Time: 0.8338s\n",
      "[3] Improvement: 187.8250123585749, Time: 0.8203s\n",
      "[4] Improvement: 132.1275977602927, Time: 0.8282s\n",
      "[5] Improvement: 107.64466150157386, Time: 0.8327s\n",
      "[6] Improvement: 95.062770339282, Time: 0.8272s\n",
      "[7] Improvement: 87.14074739645002, Time: 0.832s\n",
      "[8] Improvement: 81.81688827590551, Time: 0.8347s\n",
      "[9] Improvement: 78.61642209693673, Time: 0.8035s\n",
      "[10] Improvement: 76.61670887985383, Time: 1.664s\n"
     ]
    },
    {
     "data": {
      "text/plain": [
       "tensor(-141685.9139, dtype=torch.float64)"
      ]
     },
     "execution_count": 7,
     "metadata": {},
     "output_type": "execute_result"
    }
   ],
   "source": [
    "model2.fit(X)\n",
    "model2.log_probability(X).sum()"
   ]
  },
  {
   "cell_type": "code",
   "execution_count": 8,
   "id": "607d1627",
   "metadata": {},
   "outputs": [
    {
     "name": "stdout",
     "output_type": "stream",
     "text": [
      "[1] Improvement: 11916.924035742384, Time: 0.3742s\n",
      "[2] Improvement: 356.2398789973522, Time: 0.4464s\n",
      "[3] Improvement: 187.82526078561204, Time: 0.4137s\n",
      "[4] Improvement: 132.12753497209633, Time: 0.3989s\n",
      "[5] Improvement: 107.64437899994664, Time: 0.3825s\n",
      "[6] Improvement: 95.06291119300295, Time: 0.4098s\n",
      "[7] Improvement: 87.14107854760368, Time: 0.399s\n",
      "[8] Improvement: 81.81658541041543, Time: 0.3975s\n",
      "[9] Improvement: 78.61654813570203, Time: 0.3884s\n",
      "[10] Improvement: 76.61647296641604, Time: 0.8219s\n"
     ]
    },
    {
     "data": {
      "text/plain": [
       "tensor(-141685.9138, dtype=torch.float64)"
      ]
     },
     "execution_count": 8,
     "metadata": {},
     "output_type": "execute_result"
    }
   ],
   "source": [
    "model3.fit(X)\n",
    "model3.log_probability(X).sum()"
   ]
  },
  {
   "cell_type": "markdown",
   "id": "e68ae32a",
   "metadata": {},
   "source": [
    "### Categorical Distributions"
   ]
  },
  {
   "cell_type": "code",
   "execution_count": 9,
   "id": "46dd6613",
   "metadata": {},
   "outputs": [],
   "source": [
    "n, l, d = 200, 50, 10\n",
    "k = 50\n",
    "\n",
    "\n",
    "X = numpy.random.choice(4, size=(n, l, d))\n",
    "Xt = torch.tensor(X)\n",
    "\n",
    "d1s, d2s, d3s = [], [], []\n",
    "for i in range(k):\n",
    "    mus = numpy.abs(numpy.random.randn(d, 4))\n",
    "    mus = mus / mus.sum(axis=1, keepdims=True)\n",
    "\n",
    "    d_ = [DiscreteDistribution({i: mu[i] for i in range(4)}) for mu in mus]\n",
    "    d1 = IndependentComponentsDistribution(d_)\n",
    "    d2 = Categorical(mus)\n",
    "    d3 = Categorical(mus)\n",
    "\n",
    "    d1s.append(d1)\n",
    "    d2s.append(d2)\n",
    "    d3s.append(d3)\n",
    "\n",
    "\n",
    "starts = torch.ones(k, dtype=torch.float64) / k\n",
    "ends = torch.ones(k, dtype=torch.float64) / k\n",
    "edges = torch.ones(k, k, dtype=torch.float64) / k\n",
    "\n",
    "\n",
    "model1 = HMM.from_matrix(edges, d1s, starts, ends)\n",
    "model2 = HiddenMarkovModel(nodes=d2s, edges=edges, starts=starts, ends=ends, kind='sparse', max_iter=10, verbose=True)\n",
    "model2.bake()\n",
    "model3 = HiddenMarkovModel(nodes=d3s, edges=torch.clone(edges), starts=torch.clone(starts), ends=torch.clone(ends), max_iter=10, kind='dense', verbose=True)\n",
    "model3.bake()"
   ]
  },
  {
   "cell_type": "markdown",
   "id": "8195331e",
   "metadata": {},
   "source": [
    "### Forward"
   ]
  },
  {
   "cell_type": "code",
   "execution_count": 10,
   "id": "e6091b50",
   "metadata": {},
   "outputs": [
    {
     "name": "stdout",
     "output_type": "stream",
     "text": [
      "1.02 s ± 9.35 ms per loop (mean ± std. dev. of 7 runs, 1 loop each)\n",
      "198 ms ± 2.94 ms per loop (mean ± std. dev. of 7 runs, 10 loops each)\n",
      "150 ms ± 3.22 ms per loop (mean ± std. dev. of 7 runs, 10 loops each)\n"
     ]
    }
   ],
   "source": [
    "%timeit [model1.forward(x) for x in X]\n",
    "%timeit model2.forward(X)\n",
    "%timeit model3.forward(X)"
   ]
  },
  {
   "cell_type": "markdown",
   "id": "aaa826b1",
   "metadata": {},
   "source": [
    "### Backward"
   ]
  },
  {
   "cell_type": "code",
   "execution_count": 11,
   "id": "a4b5218d",
   "metadata": {},
   "outputs": [
    {
     "name": "stdout",
     "output_type": "stream",
     "text": [
      "1.05 s ± 5.57 ms per loop (mean ± std. dev. of 7 runs, 1 loop each)\n",
      "362 ms ± 39.5 ms per loop (mean ± std. dev. of 7 runs, 1 loop each)\n",
      "150 ms ± 5.81 ms per loop (mean ± std. dev. of 7 runs, 10 loops each)\n"
     ]
    }
   ],
   "source": [
    "%timeit [model1.backward(x) for x in X]\n",
    "%timeit model2.backward(X)\n",
    "%timeit model3.backward(X)"
   ]
  },
  {
   "cell_type": "markdown",
   "id": "fe327bb6",
   "metadata": {},
   "source": [
    "## Increased Size of Dense Transition Matrix"
   ]
  },
  {
   "cell_type": "code",
   "execution_count": 12,
   "id": "c0521cb1",
   "metadata": {},
   "outputs": [
    {
     "name": "stderr",
     "output_type": "stream",
     "text": [
      "100%|███████████████████████████████████████████| 35/35 [10:45<00:00, 18.44s/it]\n"
     ]
    }
   ],
   "source": [
    "times1, times2, times3 = [], [], []\n",
    "\n",
    "for k in tqdm(range(10, 351, 10)):\n",
    "    n, l, d = 200, 50, 10\n",
    "\n",
    "    X = numpy.random.choice(4, size=(n, l, d))\n",
    "    Xt = torch.tensor(X)\n",
    "\n",
    "    d1s, d2s, d3s = [], [], []\n",
    "    for i in range(k):\n",
    "        mus = numpy.abs(numpy.random.randn(d, 4))\n",
    "        mus = mus / mus.sum(axis=1, keepdims=True)\n",
    "\n",
    "        d_ = [DiscreteDistribution({i: mu[i] for i in range(4)}) for mu in mus]\n",
    "        d1 = IndependentComponentsDistribution(d_)\n",
    "        d2 = Categorical(mus)\n",
    "        d3 = Categorical(mus)\n",
    "\n",
    "        d1s.append(d1)\n",
    "        d2s.append(d2)\n",
    "        d3s.append(d3)\n",
    "\n",
    "\n",
    "    starts = torch.ones(k, dtype=torch.float64) / k\n",
    "    ends = torch.ones(k, dtype=torch.float64) / (k+1)\n",
    "    edges = torch.ones(k, k, dtype=torch.float64) / (k+1)\n",
    "\n",
    "\n",
    "    model1 = HMM.from_matrix(edges, d1s, starts, ends)\n",
    "    model2 = HiddenMarkovModel(nodes=d2s, edges=edges, starts=starts, ends=ends, kind='sparse', max_iter=10, verbose=True)\n",
    "    model2.bake()\n",
    "    model3 = HiddenMarkovModel(nodes=d3s, edges=torch.clone(edges), starts=torch.clone(starts), ends=torch.clone(ends), max_iter=10, kind='dense', verbose=True)\n",
    "    model3.bake()\n",
    "    \n",
    "    tic = time.time()\n",
    "    [model1.forward(x) for x in X]\n",
    "    times1.append(time.time() - tic)\n",
    "    \n",
    "    tic = time.time()\n",
    "    model2.forward(X)\n",
    "    times2.append(time.time() - tic)\n",
    "    \n",
    "    tic = time.time()\n",
    "    model3.forward(X)\n",
    "    times3.append(time.time() - tic)"
   ]
  },
  {
   "cell_type": "code",
   "execution_count": 13,
   "id": "4e8f25a7",
   "metadata": {},
   "outputs": [
    {
     "data": {
      "image/png": "[encoded data removed]",
      "text/plain": [
       "<Figure size 600x300 with 1 Axes>"
      ]
     },
     "metadata": {},
     "output_type": "display_data"
    }
   ],
   "source": [
    "x = range(10, 351, 10)\n",
    "\n",
    "plt.figure(figsize=(6, 3))\n",
    "plt.title(\"HMM Forward Algorithm Time\", fontsize=12)\n",
    "plt.plot(x, times1, label=\"pomegranate\")\n",
    "plt.plot(x, times2, label=\"torchegranate sparse\")\n",
    "plt.plot(x, times3, label=\"torchegranate dense\")\n",
    "\n",
    "plt.xlabel(\"Number of Nodes\", fontsize=10)\n",
    "plt.ylabel(\"Time (s)\", fontsize=10)\n",
    "plt.legend()\n",
    "\n",
    "plt.tight_layout()\n",
    "plt.show()"
   ]
  },
  {
   "cell_type": "markdown",
   "id": "cd8aa82c",
   "metadata": {},
   "source": [
    "## Increased Sparsity of Transition Matrix"
   ]
  },
  {
   "cell_type": "code",
   "execution_count": 22,
   "id": "0ae5e00b",
   "metadata": {},
   "outputs": [
    {
     "name": "stderr",
     "output_type": "stream",
     "text": [
      "  0%|                                                    | 0/29 [00:00<?, ?it/s]/tmp/ipykernel_49503/3080411124.py:36: UserWarning: To copy construct from a tensor, it is recommended to use sourceTensor.clone().detach() or sourceTensor.clone().detach().requires_grad_(True), rather than torch.tensor(sourceTensor).\n",
      "  ends = torch.tensor(ends / z[:, 0])\n",
      "100%|███████████████████████████████████████████| 29/29 [38:23<00:00, 79.43s/it]\n"
     ]
    }
   ],
   "source": [
    "times1, times2, times3 = [], [], []\n",
    "ps = 1. / numpy.exp(numpy.arange(3, 10.1, 0.25))\n",
    "\n",
    "for p in tqdm(ps):\n",
    "    n, l, d = 200, 50, 10\n",
    "    k = 2000\n",
    "\n",
    "    X = numpy.random.choice(4, size=(n, l, d))\n",
    "    Xt = torch.tensor(X)\n",
    "\n",
    "    d1s, d2s, d3s = [], [], []\n",
    "    for i in range(k):\n",
    "        mus = numpy.abs(numpy.random.randn(d, 4))\n",
    "        mus = mus / mus.sum(axis=1, keepdims=True)\n",
    "\n",
    "        d_ = [DiscreteDistribution({i: mu[i] for i in range(4)}) for mu in mus]\n",
    "        d1 = IndependentComponentsDistribution(d_)\n",
    "        d2 = Categorical(mus)\n",
    "        d3 = Categorical(mus)\n",
    "\n",
    "        d1s.append(d1)\n",
    "        d2s.append(d2)\n",
    "        d3s.append(d3)\n",
    "\n",
    "\n",
    "    starts = torch.ones(k, dtype=torch.float64) / k\n",
    "    ends = torch.ones(k, dtype=torch.float64)\n",
    "    \n",
    "    edges = numpy.ones((k, k), dtype=numpy.float64)\n",
    "    mask = numpy.random.choice(2, size=(k, k), replace=True, p=[1-p, p])\n",
    "    \n",
    "    edges = edges * mask\n",
    "    z = edges.sum(axis=1, keepdims=True) + 1\n",
    "    \n",
    "    edges = torch.tensor(edges / z)\n",
    "    ends = torch.tensor(ends / z[:, 0])    \n",
    "\n",
    "    model1 = HMM.from_matrix(edges, d1s, starts, ends)\n",
    "    model2 = HiddenMarkovModel(nodes=d2s, edges=edges, starts=starts, ends=ends, kind='sparse', max_iter=10, verbose=True)\n",
    "    model2.bake()\n",
    "    model3 = HiddenMarkovModel(nodes=d3s, edges=torch.clone(edges), starts=torch.clone(starts), ends=torch.clone(ends), max_iter=10, kind='dense', verbose=True)\n",
    "    model3.bake()\n",
    "    \n",
    "    tic = time.time()\n",
    "    [model1.forward(x) for x in X]\n",
    "    times1.append(time.time() - tic)\n",
    "    \n",
    "    tic = time.time()\n",
    "    model2.forward(X)\n",
    "    times2.append(time.time() - tic)\n",
    "    \n",
    "    tic = time.time()\n",
    "    model3.forward(X)\n",
    "    times3.append(time.time() - tic)"
   ]
  },
  {
   "cell_type": "code",
   "execution_count": 26,
   "id": "618d9f29",
   "metadata": {},
   "outputs": [
    {
     "data": {
      "image/png": "[encoded data removed]",
      "text/plain": [
       "<Figure size 600x300 with 1 Axes>"
      ]
     },
     "metadata": {},
     "output_type": "display_data"
    }
   ],
   "source": [
    "plt.figure(figsize=(6, 3))\n",
    "plt.title(\"HMM Forward Algorithm Time\", fontsize=12)\n",
    "plt.plot(ps, times1, label=\"pomegranate\")\n",
    "plt.plot(ps, times2, label=\"torchegranate sparse\")\n",
    "plt.plot(ps, times3, label=\"torchegranate dense\")\n",
    "\n",
    "plt.xlabel(\"Proportion Non-zero\", fontsize=10)\n",
    "plt.ylabel(\"Time (s)\", fontsize=10)\n",
    "plt.xscale('log')\n",
    "plt.yscale('log')\n",
    "plt.legend()\n",
    "\n",
    "plt.tight_layout()\n",
    "plt.show()"
   ]
  }
 ],
 "metadata": {
  "kernelspec": {
   "display_name": "Python 3 (ipykernel)",
   "language": "python",
   "name": "python3"
  },
  "language_info": {
   "codemirror_mode": {
    "name": "ipython",
    "version": 3
   },
   "file_extension": ".py",
   "mimetype": "text/x-python",
   "name": "python",
   "nbconvert_exporter": "python",
   "pygments_lexer": "ipython3",
   "version": "3.9.13"
  }
 },
 "nbformat": 4,
 "nbformat_minor": 5
}
